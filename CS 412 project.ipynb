{
 "cells": [
  {
   "cell_type": "code",
   "execution_count": 77,
   "id": "0655016c",
   "metadata": {},
   "outputs": [],
   "source": [
    "import pandas as pd\n",
    "import numpy as np\n",
    "import matplotlib.pyplot as plt\n",
    "import matplotlib.ticker as ticker\n",
    "import seaborn as sns\n",
    "import datetime\n",
    "import analysis"
   ]
  },
  {
   "cell_type": "code",
   "execution_count": 43,
   "id": "5982985d",
   "metadata": {},
   "outputs": [],
   "source": [
    "conditions = pd.read_csv(\"conditions.csv\")\n",
    "patients = pd.read_csv(\"patients.csv\")\n",
    "observations = pd.read_csv(\"observations.csv\")\n",
    "care_plans = pd.read_csv(\"careplans.csv\")\n",
    "encounters = pd.read_csv(\"encounters.csv\")\n",
    "devices = pd.read_csv(\"devices.csv\")\n",
    "supplies = pd.read_csv('supplies.csv')\n",
    "procedures = pd.read_csv(\"procedures.csv\")\n",
    "medications = pd.read_csv(\"medications.csv\")"
   ]
  },
  {
   "cell_type": "code",
   "execution_count": 72,
   "id": "cd87323f",
   "metadata": {},
   "outputs": [],
   "source": [
    "%matplotlib inline"
   ]
  },
  {
   "cell_type": "code",
   "execution_count": 73,
   "id": "f13dfc71",
   "metadata": {},
   "outputs": [],
   "source": [
    "%config InlineBackend.figure_format = 'retina'"
   ]
  },
  {
   "cell_type": "code",
   "execution_count": 74,
   "id": "e2c67c1f",
   "metadata": {},
   "outputs": [
    {
     "name": "stdout",
     "output_type": "stream",
     "text": [
      "The autoreload extension is already loaded. To reload it, use:\n",
      "  %reload_ext autoreload\n"
     ]
    }
   ],
   "source": [
    "%load_ext autoreload"
   ]
  },
  {
   "cell_type": "code",
   "execution_count": 75,
   "id": "831b86db",
   "metadata": {},
   "outputs": [],
   "source": [
    "%autoreload 1"
   ]
  },
  {
   "cell_type": "code",
   "execution_count": 76,
   "id": "30af2cd4",
   "metadata": {},
   "outputs": [],
   "source": [
    "%aimport analysis"
   ]
  },
  {
   "cell_type": "markdown",
   "id": "befbf1ce",
   "metadata": {},
   "source": [
    "### IDs of patients that have been diagnosed with COVID-19 -> training set"
   ]
  },
  {
   "cell_type": "code",
   "execution_count": 50,
   "id": "81aedfac",
   "metadata": {},
   "outputs": [],
   "source": [
    "covid_patient_ids = conditions[conditions.CODE == 840539006].PATIENT.unique()"
   ]
  },
  {
   "cell_type": "markdown",
   "id": "579693a4",
   "metadata": {},
   "source": [
    "### IDs for all patients that died in the simulation (died = 1, survived = 0)"
   ]
  },
  {
   "cell_type": "code",
   "execution_count": 51,
   "id": "e27b73d7",
   "metadata": {},
   "outputs": [],
   "source": [
    "deceased_patients = patients[patients.DEATHDATE.notna()].Id"
   ]
  },
  {
   "cell_type": "code",
   "execution_count": 52,
   "id": "0235d509",
   "metadata": {},
   "outputs": [],
   "source": [
    "inpatient_ids = encounters[(encounters.REASONCODE == 840539006) & (encounters.CODE == 1505002)].PATIENT"
   ]
  },
  {
   "cell_type": "code",
   "execution_count": 59,
   "id": "c8ec1374",
   "metadata": {},
   "outputs": [],
   "source": [
    "completed_isolation_patients = care_plans[(care_plans.CODE == 736376001) & (care_plans.STOP.notna()) & (care_plans.REASONCODE == 840539006)].PATIENT"
   ]
  },
  {
   "cell_type": "code",
   "execution_count": 61,
   "id": "b34b1919",
   "metadata": {},
   "outputs": [],
   "source": [
    "negative_covid_patient_ids = observations[(observations.CODE == '94531-1') & (observations.VALUE == 'Not detected (qualifier value)')].PATIENT.unique()"
   ]
  },
  {
   "cell_type": "code",
   "execution_count": 62,
   "id": "51e9c811",
   "metadata": {},
   "outputs": [],
   "source": [
    "survivor_ids = np.union1d(completed_isolation_patients, negative_covid_patient_ids)"
   ]
  },
  {
   "cell_type": "markdown",
   "id": "ea565201",
   "metadata": {},
   "source": [
    "### Intersection (people who died due to COVID = 1)"
   ]
  },
  {
   "cell_type": "code",
   "execution_count": 15,
   "id": "6262df85",
   "metadata": {
    "scrolled": true
   },
   "outputs": [
    {
     "data": {
      "text/plain": [
       "['START', 'STOP', 'PATIENT', 'ENCOUNTER', 'CODE', 'DESCRIPTION']"
      ]
     },
     "execution_count": 15,
     "metadata": {},
     "output_type": "execute_result"
    }
   ],
   "source": [
    "list(conditions.columns)"
   ]
  },
  {
   "cell_type": "code",
   "execution_count": 16,
   "id": "ab41c942",
   "metadata": {},
   "outputs": [
    {
     "data": {
      "text/plain": [
       "['Id',\n",
       " 'BIRTHDATE',\n",
       " 'DEATHDATE',\n",
       " 'SSN',\n",
       " 'DRIVERS',\n",
       " 'PASSPORT',\n",
       " 'PREFIX',\n",
       " 'FIRST',\n",
       " 'LAST',\n",
       " 'SUFFIX',\n",
       " 'MAIDEN',\n",
       " 'MARITAL',\n",
       " 'RACE',\n",
       " 'ETHNICITY',\n",
       " 'GENDER',\n",
       " 'BIRTHPLACE',\n",
       " 'ADDRESS',\n",
       " 'CITY',\n",
       " 'STATE',\n",
       " 'COUNTY',\n",
       " 'ZIP',\n",
       " 'LAT',\n",
       " 'LON',\n",
       " 'HEALTHCARE_EXPENSES',\n",
       " 'HEALTHCARE_COVERAGE']"
      ]
     },
     "execution_count": 16,
     "metadata": {},
     "output_type": "execute_result"
    }
   ],
   "source": [
    "list(patients.columns)"
   ]
  },
  {
   "cell_type": "code",
   "execution_count": 17,
   "id": "13c61d0d",
   "metadata": {},
   "outputs": [
    {
     "data": {
      "text/plain": [
       "['DATE',\n",
       " 'PATIENT',\n",
       " 'ENCOUNTER',\n",
       " 'CODE',\n",
       " 'DESCRIPTION',\n",
       " 'VALUE',\n",
       " 'UNITS',\n",
       " 'TYPE']"
      ]
     },
     "execution_count": 17,
     "metadata": {},
     "output_type": "execute_result"
    }
   ],
   "source": [
    "list(observations.columns)"
   ]
  },
  {
   "cell_type": "code",
   "execution_count": 18,
   "id": "444bf6c9",
   "metadata": {},
   "outputs": [
    {
     "data": {
      "text/plain": [
       "['Id',\n",
       " 'START',\n",
       " 'STOP',\n",
       " 'PATIENT',\n",
       " 'ENCOUNTER',\n",
       " 'CODE',\n",
       " 'DESCRIPTION',\n",
       " 'REASONCODE',\n",
       " 'REASONDESCRIPTION']"
      ]
     },
     "execution_count": 18,
     "metadata": {},
     "output_type": "execute_result"
    }
   ],
   "source": [
    "list(care_plans.columns)"
   ]
  },
  {
   "cell_type": "code",
   "execution_count": 19,
   "id": "df902ac8",
   "metadata": {},
   "outputs": [
    {
     "data": {
      "text/plain": [
       "['Id',\n",
       " 'START',\n",
       " 'STOP',\n",
       " 'PATIENT',\n",
       " 'ORGANIZATION',\n",
       " 'PROVIDER',\n",
       " 'PAYER',\n",
       " 'ENCOUNTERCLASS',\n",
       " 'CODE',\n",
       " 'DESCRIPTION',\n",
       " 'BASE_ENCOUNTER_COST',\n",
       " 'TOTAL_CLAIM_COST',\n",
       " 'PAYER_COVERAGE',\n",
       " 'REASONCODE',\n",
       " 'REASONDESCRIPTION']"
      ]
     },
     "execution_count": 19,
     "metadata": {},
     "output_type": "execute_result"
    }
   ],
   "source": [
    "list(encounters.columns)"
   ]
  },
  {
   "cell_type": "code",
   "execution_count": 20,
   "id": "ac8e347b",
   "metadata": {},
   "outputs": [
    {
     "data": {
      "text/plain": [
       "['START', 'STOP', 'PATIENT', 'ENCOUNTER', 'CODE', 'DESCRIPTION', 'UDI']"
      ]
     },
     "execution_count": 20,
     "metadata": {},
     "output_type": "execute_result"
    }
   ],
   "source": [
    "list(devices.columns)"
   ]
  },
  {
   "cell_type": "code",
   "execution_count": 21,
   "id": "1877267f",
   "metadata": {},
   "outputs": [
    {
     "data": {
      "text/plain": [
       "['DATE', 'PATIENT', 'ENCOUNTER', 'CODE', 'DESCRIPTION', 'QUANTITY']"
      ]
     },
     "execution_count": 21,
     "metadata": {},
     "output_type": "execute_result"
    }
   ],
   "source": [
    "list(supplies.columns)"
   ]
  },
  {
   "cell_type": "code",
   "execution_count": 22,
   "id": "dbf4ffd1",
   "metadata": {},
   "outputs": [
    {
     "data": {
      "text/plain": [
       "['DATE',\n",
       " 'PATIENT',\n",
       " 'ENCOUNTER',\n",
       " 'CODE',\n",
       " 'DESCRIPTION',\n",
       " 'BASE_COST',\n",
       " 'REASONCODE',\n",
       " 'REASONDESCRIPTION']"
      ]
     },
     "execution_count": 22,
     "metadata": {},
     "output_type": "execute_result"
    }
   ],
   "source": [
    "list(procedures.columns)"
   ]
  },
  {
   "cell_type": "code",
   "execution_count": 23,
   "id": "fc0a726b",
   "metadata": {},
   "outputs": [
    {
     "data": {
      "text/plain": [
       "['START',\n",
       " 'STOP',\n",
       " 'PATIENT',\n",
       " 'PAYER',\n",
       " 'ENCOUNTER',\n",
       " 'CODE',\n",
       " 'DESCRIPTION',\n",
       " 'BASE_COST',\n",
       " 'PAYER_COVERAGE',\n",
       " 'DISPENSES',\n",
       " 'TOTALCOST',\n",
       " 'REASONCODE',\n",
       " 'REASONDESCRIPTION']"
      ]
     },
     "execution_count": 23,
     "metadata": {},
     "output_type": "execute_result"
    }
   ],
   "source": [
    "list(medications.columns)"
   ]
  },
  {
   "cell_type": "markdown",
   "id": "2c1fecf5",
   "metadata": {},
   "source": [
    "### Needed information \n",
    "#### 1. AGE (DEATHDATE - BIRTHDATE)\n",
    "#### 2. RACE\n",
    "#### 3. ETHNICITY\n",
    "#### 4. GENDER\n",
    "#### 5. SYMPTOMS\n",
    "#### ...."
   ]
  },
  {
   "cell_type": "code",
   "execution_count": 55,
   "id": "fbba6e94",
   "metadata": {},
   "outputs": [],
   "source": [
    "covid_conditions = conditions[conditions.CODE == 840539006]"
   ]
  },
  {
   "cell_type": "code",
   "execution_count": 56,
   "id": "7101b9a8",
   "metadata": {},
   "outputs": [
    {
     "data": {
      "text/html": [
       "<div>\n",
       "<style scoped>\n",
       "    .dataframe tbody tr th:only-of-type {\n",
       "        vertical-align: middle;\n",
       "    }\n",
       "\n",
       "    .dataframe tbody tr th {\n",
       "        vertical-align: top;\n",
       "    }\n",
       "\n",
       "    .dataframe thead th {\n",
       "        text-align: right;\n",
       "    }\n",
       "</style>\n",
       "<table border=\"1\" class=\"dataframe\">\n",
       "  <thead>\n",
       "    <tr style=\"text-align: right;\">\n",
       "      <th></th>\n",
       "      <th>START</th>\n",
       "      <th>STOP</th>\n",
       "      <th>PATIENT</th>\n",
       "      <th>ENCOUNTER</th>\n",
       "      <th>CODE</th>\n",
       "      <th>DESCRIPTION</th>\n",
       "    </tr>\n",
       "  </thead>\n",
       "  <tbody>\n",
       "    <tr>\n",
       "      <th>4</th>\n",
       "      <td>2020-03-01</td>\n",
       "      <td>2020-03-30</td>\n",
       "      <td>1ff7f10f-a204-4bb1-aa72-dd763fa99482</td>\n",
       "      <td>60584c6a-e26b-4176-a660-86ad84c7ceca</td>\n",
       "      <td>840539006</td>\n",
       "      <td>COVID-19</td>\n",
       "    </tr>\n",
       "    <tr>\n",
       "      <th>11</th>\n",
       "      <td>2020-03-13</td>\n",
       "      <td>2020-04-14</td>\n",
       "      <td>9bcf6ed5-d808-44af-98a0-7d78a29ede72</td>\n",
       "      <td>a78e78d9-33bb-40bc-9e42-e47ff7e910cc</td>\n",
       "      <td>840539006</td>\n",
       "      <td>COVID-19</td>\n",
       "    </tr>\n",
       "    <tr>\n",
       "      <th>17</th>\n",
       "      <td>2020-03-10</td>\n",
       "      <td>2020-04-02</td>\n",
       "      <td>5163c501-353c-4a82-b863-a3f1df2d6cf1</td>\n",
       "      <td>f26c8d54-0e02-402b-9e98-13be78607b6b</td>\n",
       "      <td>840539006</td>\n",
       "      <td>COVID-19</td>\n",
       "    </tr>\n",
       "    <tr>\n",
       "      <th>22</th>\n",
       "      <td>2020-02-27</td>\n",
       "      <td>2020-03-17</td>\n",
       "      <td>cc3c806f-4a09-4a89-a990-4286450956be</td>\n",
       "      <td>12a6479c-c830-44a4-a6e6-1db0d5b0d815</td>\n",
       "      <td>840539006</td>\n",
       "      <td>COVID-19</td>\n",
       "    </tr>\n",
       "    <tr>\n",
       "      <th>27</th>\n",
       "      <td>2020-02-19</td>\n",
       "      <td>2020-02-28</td>\n",
       "      <td>bd1c4ffc-7f1d-4590-adbb-1d6533fb623e</td>\n",
       "      <td>8851313a-7276-49a2-ad6d-c672b3f6ebb5</td>\n",
       "      <td>840539006</td>\n",
       "      <td>COVID-19</td>\n",
       "    </tr>\n",
       "    <tr>\n",
       "      <th>...</th>\n",
       "      <td>...</td>\n",
       "      <td>...</td>\n",
       "      <td>...</td>\n",
       "      <td>...</td>\n",
       "      <td>...</td>\n",
       "      <td>...</td>\n",
       "    </tr>\n",
       "    <tr>\n",
       "      <th>1143804</th>\n",
       "      <td>2020-03-05</td>\n",
       "      <td>2020-03-15</td>\n",
       "      <td>12d4e7cc-e86b-46c5-a696-ecd52b929b71</td>\n",
       "      <td>43d9d971-2625-46ac-8378-6a07ae2fc586</td>\n",
       "      <td>840539006</td>\n",
       "      <td>COVID-19</td>\n",
       "    </tr>\n",
       "    <tr>\n",
       "      <th>1143826</th>\n",
       "      <td>2020-03-02</td>\n",
       "      <td>2020-03-23</td>\n",
       "      <td>2dbac353-17bb-42da-9aa0-a302f052d1a3</td>\n",
       "      <td>ccd36d91-4c90-411d-bd3d-0163d24684e4</td>\n",
       "      <td>840539006</td>\n",
       "      <td>COVID-19</td>\n",
       "    </tr>\n",
       "    <tr>\n",
       "      <th>1143857</th>\n",
       "      <td>2020-03-04</td>\n",
       "      <td>2020-04-08</td>\n",
       "      <td>8cf835a7-f161-4fe9-a559-350c97a3450e</td>\n",
       "      <td>72314c29-60f7-4eb3-b2cc-902ba571c99e</td>\n",
       "      <td>840539006</td>\n",
       "      <td>COVID-19</td>\n",
       "    </tr>\n",
       "    <tr>\n",
       "      <th>1143873</th>\n",
       "      <td>2020-03-05</td>\n",
       "      <td>NaN</td>\n",
       "      <td>503d768f-481c-46e2-bcdb-a6116686351a</td>\n",
       "      <td>62169fce-af51-450b-889b-6dca545fadbe</td>\n",
       "      <td>840539006</td>\n",
       "      <td>COVID-19</td>\n",
       "    </tr>\n",
       "    <tr>\n",
       "      <th>1143899</th>\n",
       "      <td>2020-03-09</td>\n",
       "      <td>2020-04-05</td>\n",
       "      <td>f8d85cff-037c-4313-9448-14ac57d586a8</td>\n",
       "      <td>f2cadc10-2d46-42a8-80db-2893c700b50b</td>\n",
       "      <td>840539006</td>\n",
       "      <td>COVID-19</td>\n",
       "    </tr>\n",
       "  </tbody>\n",
       "</table>\n",
       "<p>88166 rows × 6 columns</p>\n",
       "</div>"
      ],
      "text/plain": [
       "              START        STOP                               PATIENT  \\\n",
       "4        2020-03-01  2020-03-30  1ff7f10f-a204-4bb1-aa72-dd763fa99482   \n",
       "11       2020-03-13  2020-04-14  9bcf6ed5-d808-44af-98a0-7d78a29ede72   \n",
       "17       2020-03-10  2020-04-02  5163c501-353c-4a82-b863-a3f1df2d6cf1   \n",
       "22       2020-02-27  2020-03-17  cc3c806f-4a09-4a89-a990-4286450956be   \n",
       "27       2020-02-19  2020-02-28  bd1c4ffc-7f1d-4590-adbb-1d6533fb623e   \n",
       "...             ...         ...                                   ...   \n",
       "1143804  2020-03-05  2020-03-15  12d4e7cc-e86b-46c5-a696-ecd52b929b71   \n",
       "1143826  2020-03-02  2020-03-23  2dbac353-17bb-42da-9aa0-a302f052d1a3   \n",
       "1143857  2020-03-04  2020-04-08  8cf835a7-f161-4fe9-a559-350c97a3450e   \n",
       "1143873  2020-03-05         NaN  503d768f-481c-46e2-bcdb-a6116686351a   \n",
       "1143899  2020-03-09  2020-04-05  f8d85cff-037c-4313-9448-14ac57d586a8   \n",
       "\n",
       "                                    ENCOUNTER       CODE DESCRIPTION  \n",
       "4        60584c6a-e26b-4176-a660-86ad84c7ceca  840539006    COVID-19  \n",
       "11       a78e78d9-33bb-40bc-9e42-e47ff7e910cc  840539006    COVID-19  \n",
       "17       f26c8d54-0e02-402b-9e98-13be78607b6b  840539006    COVID-19  \n",
       "22       12a6479c-c830-44a4-a6e6-1db0d5b0d815  840539006    COVID-19  \n",
       "27       8851313a-7276-49a2-ad6d-c672b3f6ebb5  840539006    COVID-19  \n",
       "...                                       ...        ...         ...  \n",
       "1143804  43d9d971-2625-46ac-8378-6a07ae2fc586  840539006    COVID-19  \n",
       "1143826  ccd36d91-4c90-411d-bd3d-0163d24684e4  840539006    COVID-19  \n",
       "1143857  72314c29-60f7-4eb3-b2cc-902ba571c99e  840539006    COVID-19  \n",
       "1143873  62169fce-af51-450b-889b-6dca545fadbe  840539006    COVID-19  \n",
       "1143899  f2cadc10-2d46-42a8-80db-2893c700b50b  840539006    COVID-19  \n",
       "\n",
       "[88166 rows x 6 columns]"
      ]
     },
     "execution_count": 56,
     "metadata": {},
     "output_type": "execute_result"
    }
   ],
   "source": [
    "covid_conditions"
   ]
  },
  {
   "cell_type": "code",
   "execution_count": 63,
   "id": "5b422074",
   "metadata": {},
   "outputs": [],
   "source": [
    "cp = covid_conditions.merge(patients, how='left', left_on='PATIENT', right_on='Id')\n",
    "isolation_ids = care_plans[(care_plans.CODE == 736376001) & (care_plans.REASONCODE == 840539006)].PATIENT\n",
    "cp['isolation'] = cp.Id.isin(isolation_ids)\n",
    "cp['admit'] = cp.Id.isin(inpatient_ids)\n",
    "cp['recovered'] = cp.Id.isin(survivor_ids)\n",
    "cp['death'] = cp.DEATHDATE.notna()\n",
    "icu_ids = encounters[encounters.CODE == 305351004].PATIENT\n",
    "cp['icu_admit'] = cp.Id.isin(icu_ids)\n",
    "vent_ids = procedures[procedures.CODE == 26763009].PATIENT\n",
    "cp['ventilated'] = cp.Id.isin(vent_ids)"
   ]
  },
  {
   "cell_type": "code",
   "execution_count": 65,
   "id": "b98e5fb2",
   "metadata": {},
   "outputs": [],
   "source": [
    "covid_info = cp[['PATIENT', 'recovered', 'death', 'START', 'DEATHDATE', 'BIRTHDATE', 'GENDER', 'admit', 'icu_admit']]"
   ]
  },
  {
   "cell_type": "code",
   "execution_count": 66,
   "id": "65e9371d",
   "metadata": {},
   "outputs": [],
   "source": [
    "covid_info = covid_info.rename(columns={'START': 'covid_start'})"
   ]
  },
  {
   "cell_type": "code",
   "execution_count": 67,
   "id": "ebba7e6a",
   "metadata": {},
   "outputs": [],
   "source": [
    "covid_related_conditions = conditions[pd.to_datetime(conditions.START) > pd.to_datetime('2020-01-20')]"
   ]
  },
  {
   "cell_type": "code",
   "execution_count": 68,
   "id": "6b921004",
   "metadata": {},
   "outputs": [],
   "source": [
    "covid_patient_conditions = covid_info.merge(covid_related_conditions, on='PATIENT')"
   ]
  },
  {
   "cell_type": "code",
   "execution_count": 78,
   "id": "6abaf7d6",
   "metadata": {},
   "outputs": [
    {
     "ename": "AttributeError",
     "evalue": "module 'analysis' has no attribute 'symptom_table'",
     "output_type": "error",
     "traceback": [
      "\u001b[1;31m---------------------------------------------------------------------------\u001b[0m",
      "\u001b[1;31mAttributeError\u001b[0m                            Traceback (most recent call last)",
      "Cell \u001b[1;32mIn[78], line 1\u001b[0m\n\u001b[1;32m----> 1\u001b[0m \u001b[43manalysis\u001b[49m\u001b[38;5;241;43m.\u001b[39;49m\u001b[43msymptom_table\u001b[49m(covid_patient_conditions)\n",
      "\u001b[1;31mAttributeError\u001b[0m: module 'analysis' has no attribute 'symptom_table'"
     ]
    }
   ],
   "source": [
    "analysis.symptom_table(covid_patient_conditions)"
   ]
  },
  {
   "cell_type": "code",
   "execution_count": null,
   "id": "2ea45b27",
   "metadata": {},
   "outputs": [],
   "source": []
  }
 ],
 "metadata": {
  "kernelspec": {
   "display_name": "Python 3 (ipykernel)",
   "language": "python",
   "name": "python3"
  },
  "language_info": {
   "codemirror_mode": {
    "name": "ipython",
    "version": 3
   },
   "file_extension": ".py",
   "mimetype": "text/x-python",
   "name": "python",
   "nbconvert_exporter": "python",
   "pygments_lexer": "ipython3",
   "version": "3.10.9"
  }
 },
 "nbformat": 4,
 "nbformat_minor": 5
}
